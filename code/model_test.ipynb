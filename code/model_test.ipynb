{
 "cells": [
  {
   "cell_type": "code",
   "execution_count": 2,
   "metadata": {
    "collapsed": true
   },
   "outputs": [],
   "source": [
    "import pandas as pd\n",
    "import numpy as np\n",
    "\n",
    "import matplotlib\n",
    "import matplotlib.pyplot as plt\n",
    "%matplotlib inline\n",
    "import seaborn as sns\n",
    "\n",
    "from sklearn import preprocessing\n",
    "from sklearn.ensemble import RandomForestRegressor\n",
    "from sklearn.metrics import (explained_variance_score, mean_absolute_error, mean_squared_error, r2_score)\n",
    "\n",
    "import pickle"
   ]
  },
  {
   "cell_type": "markdown",
   "metadata": {},
   "source": [
    "### Loading model and data"
   ]
  },
  {
   "cell_type": "code",
   "execution_count": 3,
   "metadata": {
    "collapsed": true
   },
   "outputs": [],
   "source": [
    "## Load model and parameters\n",
    "model_file = '../data/prediction_model.p'\n",
    "[column_list, column_type, missing_replacements, label_encoders, one_hot_encoder, selected_models] =pickle.load(open(model_file, 'rb' ))"
   ]
  },
  {
   "cell_type": "code",
   "execution_count": 4,
   "metadata": {
    "collapsed": false
   },
   "outputs": [
    {
     "name": "stdout",
     "output_type": "stream",
     "text": [
      "<class 'pandas.core.frame.DataFrame'>\n",
      "RangeIndex: 298985 entries, 0 to 298984\n",
      "Data columns (total 21 columns):\n",
      "VendorID                 298985 non-null int64\n",
      "lpep_pickup_datetime     298985 non-null object\n",
      "Lpep_dropoff_datetime    298985 non-null object\n",
      "Store_and_fwd_flag       298985 non-null object\n",
      "RateCodeID               298985 non-null int64\n",
      "Pickup_longitude         298985 non-null float64\n",
      "Pickup_latitude          298985 non-null float64\n",
      "Dropoff_longitude        298985 non-null float64\n",
      "Dropoff_latitude         298985 non-null float64\n",
      "Passenger_count          298985 non-null int64\n",
      "Trip_distance            298985 non-null float64\n",
      "Fare_amount              298985 non-null float64\n",
      "Extra                    298985 non-null float64\n",
      "MTA_tax                  298985 non-null float64\n",
      "Tip_amount               298985 non-null float64\n",
      "Tolls_amount             298985 non-null float64\n",
      "Ehail_fee                0 non-null float64\n",
      "improvement_surcharge    298985 non-null float64\n",
      "Total_amount             298985 non-null float64\n",
      "Payment_type             298985 non-null int64\n",
      "Trip_type                298984 non-null float64\n",
      "dtypes: float64(14), int64(4), object(3)\n",
      "memory usage: 47.9+ MB\n"
     ]
    }
   ],
   "source": [
    "# load test data from file\n",
    "data_file = '../data/test_data.csv'\n",
    "df_test = pd.read_csv(data_file)\n",
    "# Check contains\n",
    "df_test.info()"
   ]
  },
  {
   "cell_type": "markdown",
   "metadata": {},
   "source": [
    "### Data preprocessing"
   ]
  },
  {
   "cell_type": "code",
   "execution_count": 5,
   "metadata": {
    "collapsed": true
   },
   "outputs": [],
   "source": [
    "## Keep only positive Total Payment Amount. The model was built with positive Total Payments\n",
    "df_test = df_test[df_test.Total_amount > 0]"
   ]
  },
  {
   "cell_type": "code",
   "execution_count": 6,
   "metadata": {
    "collapsed": false
   },
   "outputs": [],
   "source": [
    "## Keep only credit card transactions. Tip was recorded for only these transactions\n",
    "df_test = df_test[df_test.Payment_type == 1]"
   ]
  },
  {
   "cell_type": "code",
   "execution_count": 7,
   "metadata": {
    "collapsed": false
   },
   "outputs": [
    {
     "data": {
      "text/plain": [
       "(140316, 21)"
      ]
     },
     "execution_count": 7,
     "metadata": {},
     "output_type": "execute_result"
    }
   ],
   "source": [
    "## size of test data\n",
    "df_test.shape"
   ]
  },
  {
   "cell_type": "code",
   "execution_count": 8,
   "metadata": {
    "collapsed": false
   },
   "outputs": [],
   "source": [
    "## Define tip_percent function and add a new field for it\n",
    "df_test[\"Tip_percent\"] = df_test.apply(lambda r: r[\"Tip_amount\"]*100/r[\"Total_amount\"], axis =1)"
   ]
  },
  {
   "cell_type": "code",
   "execution_count": 9,
   "metadata": {
    "collapsed": false
   },
   "outputs": [],
   "source": [
    "## Functions to preprocess the test data before prediction\n",
    "#  - imputes the missing values \n",
    "#  - plots/summarizas the datasret\n",
    "#  - converts categorical data through one hot encoding\n",
    "#  The prediction file from training contains missing value replacements, encoders, etc\n",
    "\n",
    "\n",
    "def process_test_column(dx, ctype, replacement):\n",
    "    missing_loc = dx.isnull()\n",
    "    print('Number of Records: ', len(dx.index))\n",
    "    print('Missing Records: ', sum(missing_loc))\n",
    "    \n",
    "    if ctype =='categorical':\n",
    "        print(dx.value_counts())\n",
    "    elif ctype == 'numeric':\n",
    "        sns.violinplot(dx)\n",
    "        plt.show()\n",
    "    else:\n",
    "        raise NameError('type not found!')      \n",
    "    dx = dx.fillna(replacement)    \n",
    "    return dx\n",
    "\n",
    "\n",
    "def process_test_data(df, types, replacements, encoders, hot_encoder):\n",
    "    for x in list(df):\n",
    "        print('*'*80)\n",
    "        print(x)\n",
    "        print('')\n",
    "        s = process_test_column(df[x], types[x], replacements[x] )\n",
    "        df[x] = s\n",
    "    \n",
    "    for x,le in encoders.items():\n",
    "        print(x)\n",
    "        df[x] = le.transform(df[x])\n",
    "\n",
    "    data_array = hot_encoder.transform(df.values).toarray()\n",
    "    return data_array\n",
    "    "
   ]
  },
  {
   "cell_type": "code",
   "execution_count": 10,
   "metadata": {
    "collapsed": false
   },
   "outputs": [
    {
     "name": "stdout",
     "output_type": "stream",
     "text": [
      "********************************************************************************\n",
      "RateCodeID\n",
      "\n",
      "Number of Records:  140316\n",
      "Missing Records:  0\n",
      "1     137437\n",
      "5       2322\n",
      "2        366\n",
      "4         97\n",
      "3         93\n",
      "99         1\n",
      "Name: RateCodeID, dtype: int64\n",
      "********************************************************************************\n",
      "Passenger_count\n",
      "\n",
      "Number of Records:  140316\n"
     ]
    },
    {
     "name": "stderr",
     "output_type": "stream",
     "text": [
      "C:\\Anaconda2\\envs\\py35\\lib\\site-packages\\ipykernel\\__main__.py:30: SettingWithCopyWarning: \n",
      "A value is trying to be set on a copy of a slice from a DataFrame.\n",
      "Try using .loc[row_indexer,col_indexer] = value instead\n",
      "\n",
      "See the caveats in the documentation: http://pandas.pydata.org/pandas-docs/stable/indexing.html#indexing-view-versus-copy\n"
     ]
    },
    {
     "name": "stdout",
     "output_type": "stream",
     "text": [
      "Missing Records:  0\n",
      "1    118178\n",
      "2     10602\n",
      "5      5344\n",
      "3      3138\n",
      "6      2182\n",
      "4       833\n",
      "0        36\n",
      "7         2\n",
      "8         1\n",
      "Name: Passenger_count, dtype: int64\n",
      "********************************************************************************\n",
      "Trip_distance\n",
      "\n",
      "Number of Records:  140316\n",
      "Missing Records:  0\n"
     ]
    },
    {
     "data": {
      "image/png": "[encoded data removed]",
      "text/plain": [
       "<matplotlib.figure.Figure at 0xb5f0550>"
      ]
     },
     "metadata": {},
     "output_type": "display_data"
    },
    {
     "name": "stdout",
     "output_type": "stream",
     "text": [
      "********************************************************************************\n",
      "Fare_amount\n",
      "\n",
      "Number of Records:  140316\n",
      "Missing Records:  0\n"
     ]
    },
    {
     "data": {
      "image/png": "[encoded data removed]",
      "text/plain": [
       "<matplotlib.figure.Figure at 0xc369ba8>"
      ]
     },
     "metadata": {},
     "output_type": "display_data"
    },
    {
     "name": "stdout",
     "output_type": "stream",
     "text": [
      "********************************************************************************\n",
      "Extra\n",
      "\n",
      "Number of Records:  140316\n",
      "Missing Records:  0\n"
     ]
    },
    {
     "data": {
      "image/png": "[encoded data removed]",
      "text/plain": [
       "<matplotlib.figure.Figure at 0x47e61d0>"
      ]
     },
     "metadata": {},
     "output_type": "display_data"
    },
    {
     "name": "stdout",
     "output_type": "stream",
     "text": [
      "********************************************************************************\n",
      "MTA_tax\n",
      "\n",
      "Number of Records:  140316\n",
      "Missing Records:  0\n"
     ]
    },
    {
     "data": {
      "image/png": "[encoded data removed]",
      "text/plain": [
       "<matplotlib.figure.Figure at 0xb2c56d8>"
      ]
     },
     "metadata": {},
     "output_type": "display_data"
    },
    {
     "name": "stdout",
     "output_type": "stream",
     "text": [
      "********************************************************************************\n",
      "Tolls_amount\n",
      "\n",
      "Number of Records:  140316\n",
      "Missing Records:  0\n"
     ]
    },
    {
     "data": {
      "image/png": "[encoded data removed]",
      "text/plain": [
       "<matplotlib.figure.Figure at 0x8672470>"
      ]
     },
     "metadata": {},
     "output_type": "display_data"
    },
    {
     "name": "stdout",
     "output_type": "stream",
     "text": [
      "********************************************************************************\n",
      "improvement_surcharge\n",
      "\n",
      "Number of Records:  140316\n",
      "Missing Records:  0\n"
     ]
    },
    {
     "data": {
      "image/png": "[encoded data removed]",
      "text/plain": [
       "<matplotlib.figure.Figure at 0x45bbe80>"
      ]
     },
     "metadata": {},
     "output_type": "display_data"
    },
    {
     "name": "stdout",
     "output_type": "stream",
     "text": [
      "********************************************************************************\n",
      "Total_amount\n",
      "\n",
      "Number of Records:  140316\n",
      "Missing Records:  0\n"
     ]
    },
    {
     "data": {
      "image/png": "[encoded data removed]",
      "text/plain": [
       "<matplotlib.figure.Figure at 0xb5f04e0>"
      ]
     },
     "metadata": {},
     "output_type": "display_data"
    },
    {
     "name": "stdout",
     "output_type": "stream",
     "text": [
      "********************************************************************************\n",
      "Trip_type \n",
      "\n",
      "Number of Records:  140316\n",
      "Missing Records:  1\n",
      "1.0    138030\n",
      "2.0      2285\n",
      "Name: Trip_type , dtype: int64\n",
      "Passenger_count\n",
      "RateCodeID\n",
      "Trip_type \n"
     ]
    },
    {
     "name": "stderr",
     "output_type": "stream",
     "text": [
      "C:\\Anaconda2\\envs\\py35\\lib\\site-packages\\ipykernel\\__main__.py:34: SettingWithCopyWarning: \n",
      "A value is trying to be set on a copy of a slice from a DataFrame.\n",
      "Try using .loc[row_indexer,col_indexer] = value instead\n",
      "\n",
      "See the caveats in the documentation: http://pandas.pydata.org/pandas-docs/stable/indexing.html#indexing-view-versus-copy\n"
     ]
    }
   ],
   "source": [
    "## Preprocess the test data before prediction\n",
    "test_data_array = process_test_data(df_test[column_list], column_type, missing_replacements, label_encoders, one_hot_encoder)"
   ]
  },
  {
   "cell_type": "code",
   "execution_count": 11,
   "metadata": {
    "collapsed": false
   },
   "outputs": [
    {
     "data": {
      "text/plain": [
       "(140316, 25)"
      ]
     },
     "execution_count": 11,
     "metadata": {},
     "output_type": "execute_result"
    }
   ],
   "source": [
    "# Size of converted test data\n",
    "test_data_array.shape"
   ]
  },
  {
   "cell_type": "markdown",
   "metadata": {},
   "source": [
    "### Prediction"
   ]
  },
  {
   "cell_type": "code",
   "execution_count": 12,
   "metadata": {
    "collapsed": true
   },
   "outputs": [],
   "source": [
    "### Predict the Tip_percent\n",
    "#   the predition file contains the model (in this case one)\n",
    "test_data_prediction = pd.DataFrame()\n",
    "for model_name, model in selected_models.items():\n",
    "    test_data_prediction[model_name] = model.predict(test_data_array)"
   ]
  },
  {
   "cell_type": "code",
   "execution_count": 13,
   "metadata": {
    "collapsed": false
   },
   "outputs": [],
   "source": [
    "## Define true and precdiction lists for various accracy calculations \n",
    "##\n",
    "y_true = list(df_test[\"Tip_percent\"].values)\n",
    "y_pred = list(test_data_prediction[\"RandomForestRegressor\"].values)"
   ]
  },
  {
   "cell_type": "markdown",
   "metadata": {},
   "source": [
    "### Accuracy metrics"
   ]
  },
  {
   "cell_type": "code",
   "execution_count": 14,
   "metadata": {
    "collapsed": false
   },
   "outputs": [
    {
     "name": "stdout",
     "output_type": "stream",
     "text": [
      "0.996946058368\n"
     ]
    }
   ],
   "source": [
    "## R² score, the coefficient of determination\n",
    "print(r2_score(y_true, y_pred))"
   ]
  },
  {
   "cell_type": "code",
   "execution_count": 15,
   "metadata": {
    "collapsed": false
   },
   "outputs": [
    {
     "name": "stdout",
     "output_type": "stream",
     "text": [
      "0.996946107629\n"
     ]
    }
   ],
   "source": [
    "## Explained variance score\n",
    "print(explained_variance_score(y_true, y_pred))"
   ]
  },
  {
   "cell_type": "code",
   "execution_count": 16,
   "metadata": {
    "collapsed": false
   },
   "outputs": [
    {
     "name": "stdout",
     "output_type": "stream",
     "text": [
      "0.186537844966\n"
     ]
    }
   ],
   "source": [
    "## Mean squared error¶\n",
    "print(mean_squared_error(y_true, y_pred))"
   ]
  },
  {
   "cell_type": "code",
   "execution_count": 17,
   "metadata": {
    "collapsed": false
   },
   "outputs": [
    {
     "name": "stdout",
     "output_type": "stream",
     "text": [
      "0.0373198709955\n"
     ]
    }
   ],
   "source": [
    "## Mean absolute error\n",
    "print(mean_absolute_error(y_true, y_pred))"
   ]
  },
  {
   "cell_type": "markdown",
   "metadata": {},
   "source": [
    "### Plotting the boxplot of errors"
   ]
  },
  {
   "cell_type": "code",
   "execution_count": 18,
   "metadata": {
    "collapsed": false
   },
   "outputs": [],
   "source": [
    "diff = [x-y for x,y in zip(y_true,y_pred)]"
   ]
  },
  {
   "cell_type": "code",
   "execution_count": 19,
   "metadata": {
    "collapsed": false
   },
   "outputs": [
    {
     "data": {
      "text/plain": [
       "<matplotlib.axes._subplots.AxesSubplot at 0xb62f438>"
      ]
     },
     "execution_count": 19,
     "metadata": {},
     "output_type": "execute_result"
    },
    {
     "data": {
      "image/png": "[encoded data removed]",
      "text/plain": [
       "<matplotlib.figure.Figure at 0xc3a7668>"
      ]
     },
     "metadata": {},
     "output_type": "display_data"
    }
   ],
   "source": [
    "## See error boxplot \n",
    "sns.boxplot(diff)"
   ]
  },
  {
   "cell_type": "code",
   "execution_count": null,
   "metadata": {
    "collapsed": true
   },
   "outputs": [],
   "source": [
    "#"
   ]
  }
 ],
 "metadata": {
  "anaconda-cloud": {},
  "kernelspec": {
   "display_name": "Python 3",
   "language": "python",
   "name": "python3"
  },
  "language_info": {
   "codemirror_mode": {
    "name": "ipython",
    "version": 3
   },
   "file_extension": ".py",
   "mimetype": "text/x-python",
   "name": "python",
   "nbconvert_exporter": "python",
   "pygments_lexer": "ipython3",
   "version": "3.5.2"
  }
 },
 "nbformat": 4,
 "nbformat_minor": 0
}
