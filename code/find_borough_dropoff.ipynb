{
 "cells": [
  {
   "cell_type": "code",
   "execution_count": 1,
   "metadata": {
    "collapsed": true
   },
   "outputs": [],
   "source": [
    "### This file finds the borough names of the dropoff locations\n",
    "### Uses python Geospatial Libraries fiona and shapely\n",
    "### The main calculation function, find_borough, is defined in helper.ipynb/py file\n",
    "### It uses the shape datafile for the NYC boroughs\n",
    "### Tags locations outside the NYC boroughs at \"Outside NYC\"\n",
    "### To speed up the calculations, a similar file is used for the pickup locaions\n",
    "### Saves the result data in file for later processing"
   ]
  },
  {
   "cell_type": "code",
   "execution_count": 2,
   "metadata": {
    "collapsed": false
   },
   "outputs": [],
   "source": [
    "import pandas as pd\n",
    "import fiona\n",
    "import helper"
   ]
  },
  {
   "cell_type": "code",
   "execution_count": 3,
   "metadata": {
    "collapsed": false
   },
   "outputs": [
    {
     "name": "stdout",
     "output_type": "stream",
     "text": [
      "(1494926, 21)\n"
     ]
    }
   ],
   "source": [
    "file_name = '../data/green_tripdata_2015-09.csv'\n",
    "df_orig = pd.read_csv(file_name)\n",
    "print(df_orig.shape)"
   ]
  },
  {
   "cell_type": "code",
   "execution_count": 4,
   "metadata": {
    "collapsed": false
   },
   "outputs": [],
   "source": [
    "## NYC borough shapefile\n",
    "sf = fiona.open('../data/geo_export_437c498f-d75b-44be-9564-edaaf1847ca2.shp')"
   ]
  },
  {
   "cell_type": "code",
   "execution_count": 5,
   "metadata": {
    "collapsed": true
   },
   "outputs": [],
   "source": [
    "pickdrop = \"Dropoff\""
   ]
  },
  {
   "cell_type": "code",
   "execution_count": null,
   "metadata": {
    "collapsed": true
   },
   "outputs": [],
   "source": [
    "## find borough names\n",
    "lat_list = df_orig[pickdrop+\"_latitude\"].tolist()\n",
    "lon_list = df_orig[pickdrop+\"_longitude\"].tolist()\n",
    "dropoff_names = helper.find_borough(sf, lat_list, lon_list)"
   ]
  },
  {
   "cell_type": "code",
   "execution_count": 12,
   "metadata": {
    "collapsed": false
   },
   "outputs": [],
   "source": [
    "dfn = pd.DataFrame()"
   ]
  },
  {
   "cell_type": "code",
   "execution_count": 14,
   "metadata": {
    "collapsed": true
   },
   "outputs": [],
   "source": [
    "dfn[pickdrop+\"_latitude\"]= df_orig[pickdrop+\"_latitude\"]\n",
    "dfn[pickdrop+\"_longitude\"] = df_orig[pickdrop+\"_longitude\"]"
   ]
  },
  {
   "cell_type": "code",
   "execution_count": 16,
   "metadata": {
    "collapsed": false
   },
   "outputs": [
    {
     "data": {
      "text/plain": [
       "Manhattan        523685\n",
       "Brooklyn         458104\n",
       "Queens           401650\n",
       "Bronx            103926\n",
       "unknown            7246\n",
       "Staten Island       315\n",
       "Name: Dropoff_borough, dtype: int64"
      ]
     },
     "execution_count": 16,
     "metadata": {},
     "output_type": "execute_result"
    }
   ],
   "source": [
    "dfn[pickdrop+\"_borough\"] = pd.DataFrame(dropoff_names)\n",
    "dfn[pickdrop+\"_borough\"].value_counts()"
   ]
  },
  {
   "cell_type": "code",
   "execution_count": 18,
   "metadata": {
    "collapsed": false
   },
   "outputs": [
    {
     "data": {
      "text/plain": [
       "Manhattan        523685\n",
       "Brooklyn         458104\n",
       "Queens           401650\n",
       "Bronx            103926\n",
       "Outside NYC        7246\n",
       "Staten Island       315\n",
       "Name: Dropoff_borough, dtype: int64"
      ]
     },
     "execution_count": 18,
     "metadata": {},
     "output_type": "execute_result"
    }
   ],
   "source": [
    "dfn[pickdrop+\"_borough\"].replace(\"unknown\", \"Outside NYC\",inplace=True)\n",
    "dfn[pickdrop+\"_borough\"].value_counts()"
   ]
  },
  {
   "cell_type": "code",
   "execution_count": 19,
   "metadata": {
    "collapsed": true
   },
   "outputs": [],
   "source": [
    "file_name = '../data/green_tripdata_2015-09_' + pickdrop + '_borough.csv'\n",
    "dfn.to_csv(file_name, index=False)"
   ]
  },
  {
   "cell_type": "code",
   "execution_count": null,
   "metadata": {
    "collapsed": true
   },
   "outputs": [],
   "source": []
  }
 ],
 "metadata": {
  "anaconda-cloud": {},
  "kernelspec": {
   "display_name": "Python 3",
   "language": "python",
   "name": "python3"
  },
  "language_info": {
   "codemirror_mode": {
    "name": "ipython",
    "version": 3
   },
   "file_extension": ".py",
   "mimetype": "text/x-python",
   "name": "python",
   "nbconvert_exporter": "python",
   "pygments_lexer": "ipython3",
   "version": "3.5.2"
  }
 },
 "nbformat": 4,
 "nbformat_minor": 2
}
