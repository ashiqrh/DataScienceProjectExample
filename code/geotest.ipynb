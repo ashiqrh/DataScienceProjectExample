{
 "cells": [
  {
   "cell_type": "code",
   "execution_count": 1,
   "metadata": {
    "collapsed": false
   },
   "outputs": [],
   "source": [
    "import fiona\n",
    "import shapely\n",
    "from shapely import geometry\n",
    "from shapely.geometry import Point\n",
    "import pyproj\n",
    "\n",
    "import time\n",
    "import datetime\n",
    "\n",
    "import pygeohash as pgh"
   ]
  },
  {
   "cell_type": "code",
   "execution_count": 2,
   "metadata": {
    "collapsed": true
   },
   "outputs": [],
   "source": [
    "sf = fiona.open('../data/geo_export_437c498f-d75b-44be-9564-edaaf1847ca2.shp')"
   ]
  },
  {
   "cell_type": "code",
   "execution_count": 3,
   "metadata": {
    "collapsed": false
   },
   "outputs": [
    {
     "name": "stdout",
     "output_type": "stream",
     "text": [
      "5\n"
     ]
    }
   ],
   "source": [
    "print(len(sf))"
   ]
  },
  {
   "cell_type": "code",
   "execution_count": 7,
   "metadata": {
    "collapsed": true
   },
   "outputs": [],
   "source": [
    "def find_borough(polygons, lat, lon):\n",
    "    borough_name = 'unknown'\n",
    "    \n",
    "    for borough in polygons:\n",
    "        boundary = shapely.geometry.asShape( borough['geometry'] )\n",
    "        point = shapely.geometry.Point(lon, lat)\n",
    "        if boundary.contains(point):\n",
    "            borough_name = borough['properties']['boro_name']\n",
    "            break\n",
    "            \n",
    "    return borough_name\n",
    "\n",
    "def find_distance(lat1, lon1, lat2, lon2):\n",
    "    point1 = Point(lon1,lat1)\n",
    "    point2 = Point(lon2, lat2)    \n",
    "    \n",
    "    geod = pyproj.Geod(ellps='WGS84')\n",
    "    angle1,angle2,distance = geod.inv(point1.x, point1.y, point2.x, point2.y)\n",
    "    return 0.621371*distance/1000"
   ]
  },
  {
   "cell_type": "code",
   "execution_count": 10,
   "metadata": {
    "collapsed": false
   },
   "outputs": [
    {
     "name": "stdout",
     "output_type": "stream",
     "text": [
      "Queens\n"
     ]
    }
   ],
   "source": [
    "jfk_lat = 40.6413111 \n",
    "jfk_lon = -73.7803331\n",
    "print(find_borough(sf, jfk_lat, jfk_lon))"
   ]
  },
  {
   "cell_type": "code",
   "execution_count": 11,
   "metadata": {
    "collapsed": false
   },
   "outputs": [
    {
     "name": "stdout",
     "output_type": "stream",
     "text": [
      "86.97123942327009\n"
     ]
    }
   ],
   "source": [
    "lat1 = jfk_lat - 1\n",
    "lon1 = jfk_lon - 1\n",
    "print(find_distance(lat1, lon1, jfk_lat, jfk_lon))"
   ]
  },
  {
   "cell_type": "code",
   "execution_count": 13,
   "metadata": {
    "collapsed": false
   },
   "outputs": [
    {
     "data": {
      "text/plain": [
       "'dr5x1'"
      ]
     },
     "execution_count": 13,
     "metadata": {},
     "output_type": "execute_result"
    }
   ],
   "source": [
    "pgh.encode(jfk_lat, jfk_lon, precision = 5)"
   ]
  },
  {
   "cell_type": "code",
   "execution_count": 32,
   "metadata": {
    "collapsed": false
   },
   "outputs": [
    {
     "name": "stdout",
     "output_type": "stream",
     "text": [
      "Time:  0:00:08.366737\n"
     ]
    }
   ],
   "source": [
    "n = 100000\n",
    "tstart = time.time()\n",
    "for i in range(n):\n",
    "    x = find_distance(jfk_lat, jfk_long, jfk_lat -i/n, jfk_long -i/n)\n",
    "print('Time: ', str(datetime.timedelta(seconds=time.time()-tstart)))"
   ]
  },
  {
   "cell_type": "code",
   "execution_count": null,
   "metadata": {
    "collapsed": true
   },
   "outputs": [],
   "source": []
  }
 ],
 "metadata": {
  "kernelspec": {
   "display_name": "Python 3",
   "language": "python",
   "name": "python3"
  },
  "language_info": {
   "codemirror_mode": {
    "name": "ipython",
    "version": 3
   },
   "file_extension": ".py",
   "mimetype": "text/x-python",
   "name": "python",
   "nbconvert_exporter": "python",
   "pygments_lexer": "ipython3",
   "version": "3.5.2"
  }
 },
 "nbformat": 4,
 "nbformat_minor": 2
}
