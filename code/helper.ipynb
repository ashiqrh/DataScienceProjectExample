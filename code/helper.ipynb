{
 "cells": [
  {
   "cell_type": "code",
   "execution_count": null,
   "metadata": {
    "collapsed": true
   },
   "outputs": [],
   "source": [
    "### this file contains to helper functions for spatial calculations\n",
    "### find_distance calculates the distance between two points\n",
    "### find_borough find the name of the borough the point belongs to\n",
    "\n",
    "##  libraries fiona and shapely were used. Both libraries were Linux/Max only in \n",
    "##  the anaconda distribution and the author used an Ubuntu Linux computer for this part of the code. "
   ]
  },
  {
   "cell_type": "code",
   "execution_count": 1,
   "metadata": {
    "collapsed": true
   },
   "outputs": [],
   "source": [
    "import pandas as pd\n",
    "\n",
    "import fiona\n",
    "import shapely\n",
    "from shapely import geometry\n",
    "import pyproj\n",
    "\n",
    "import time\n",
    "import datetime"
   ]
  },
  {
   "cell_type": "code",
   "execution_count": 2,
   "metadata": {
    "collapsed": true
   },
   "outputs": [],
   "source": [
    "def find_distance(lat1, lon1, lat2, lon2):\n",
    "    point1 = geometry.Point(lon1,lat1)\n",
    "    point2 = geometry.Point(lon2, lat2)    \n",
    "    \n",
    "    ## Use the World Geodetic System 84 standard to calculate distance\n",
    "    geod = pyproj.Geod(ellps='WGS84')\n",
    "    angle1,angle2,distance = geod.inv(point1.x, point1.y, point2.x, point2.y)\n",
    "    return 0.621371*distance/1000  ## in mile"
   ]
  },
  {
   "cell_type": "code",
   "execution_count": 3,
   "metadata": {
    "collapsed": true
   },
   "outputs": [],
   "source": [
    "## find the name of the borough from the shape file\n",
    "def find_borough(polygons, lat_list, lon_list):\n",
    "    \n",
    "    name_list = []\n",
    "    boundaries = [shapely.geometry.asShape(p['geometry'])  for p in polygons]\n",
    "    boundary_names = [p['properties']['boro_name'] for p in polygons]\n",
    "    points = [shapely.geometry.Point(lon, lat) for lat,lon in zip(lat_list, lon_list)]\n",
    "    \n",
    "    records = len(lat_list)\n",
    "    batch   = 5000\n",
    "    n = 0\n",
    "    bn = 0\n",
    "    tstart = time.time()\n",
    "    tbatch = tstart\n",
    "    \n",
    "    for point in points:\n",
    "        name = 'unknown'   \n",
    "        for boundary, boundary_name  in zip(boundaries,boundary_names):    \n",
    "            if boundary.contains(point):\n",
    "                name = boundary_name\n",
    "                break\n",
    "        name_list.append(name)\n",
    "        \n",
    "        ### how long does it take to do the calculations\n",
    "        n = n + 1\n",
    "        if (n % batch) == 0:\n",
    "            bn = bn + 1\n",
    "            tend = time.time()\n",
    "            print('*'*80)\n",
    "            print('Number of records done so far', n)\n",
    "            print('Time for last ', batch,' records ', str(datetime.timedelta(seconds=tend-tbatch)))\n",
    "            tduration = tend - tstart\n",
    "            print('Run time so far ', str(datetime.timedelta(seconds=tduration)))\n",
    "            remaining_secs = float(records-n)/batch * tduration/bn\n",
    "            print('Remaining time ', str(datetime.timedelta(seconds=remaining_secs)))\n",
    "            tbatch = tend\n",
    "        \n",
    "    return name_list"
   ]
  }
 ],
 "metadata": {
  "anaconda-cloud": {},
  "kernelspec": {
   "display_name": "Python 3",
   "language": "python",
   "name": "python3"
  },
  "language_info": {
   "codemirror_mode": {
    "name": "ipython",
    "version": 3
   },
   "file_extension": ".py",
   "mimetype": "text/x-python",
   "name": "python",
   "nbconvert_exporter": "python",
   "pygments_lexer": "ipython3",
   "version": "3.5.2"
  }
 },
 "nbformat": 4,
 "nbformat_minor": 2
}
