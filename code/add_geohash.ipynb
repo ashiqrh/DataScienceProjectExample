{
 "cells": [
  {
   "cell_type": "code",
   "execution_count": null,
   "metadata": {
    "collapsed": true
   },
   "outputs": [],
   "source": [
    "## This file adds geohash tags to the pickup and dropoff locations \n",
    "## Three different precision levels (5, 7, 9) are used to get three different grid sizes. \n",
    "## The ones corresponding to precision 5 or 7 could be further grouped into bins and\n",
    "## used in tip percent prediction model for Q4.\n",
    "## The ones with precision 7 or 9 could be used in map visualizations in Q5.\n",
    "## The hashed valued are written in the green_tripdata_2015-09_geo.csv file in the data folder\n",
    "## and the combine_data.ipynb file combines them with the rest."
   ]
  },
  {
   "cell_type": "code",
   "execution_count": 1,
   "metadata": {
    "collapsed": true
   },
   "outputs": [],
   "source": [
    "import pandas as pd\n",
    "import pygeohash as pgh"
   ]
  },
  {
   "cell_type": "code",
   "execution_count": 2,
   "metadata": {
    "collapsed": false
   },
   "outputs": [
    {
     "name": "stdout",
     "output_type": "stream",
     "text": [
      "(1494926, 21)\n"
     ]
    }
   ],
   "source": [
    "file_name_source  = '../data/green_tripdata_2015-09.csv'\n",
    "df = pd.read_csv(file_name_source)\n",
    "print(df.shape)"
   ]
  },
  {
   "cell_type": "code",
   "execution_count": 3,
   "metadata": {
    "collapsed": false
   },
   "outputs": [
    {
     "name": "stdout",
     "output_type": "stream",
     "text": [
      "<class 'pandas.core.frame.DataFrame'>\n",
      "RangeIndex: 1494926 entries, 0 to 1494925\n",
      "Data columns (total 21 columns):\n",
      "VendorID                 1494926 non-null int64\n",
      "lpep_pickup_datetime     1494926 non-null object\n",
      "Lpep_dropoff_datetime    1494926 non-null object\n",
      "Store_and_fwd_flag       1494926 non-null object\n",
      "RateCodeID               1494926 non-null int64\n",
      "Pickup_longitude         1494926 non-null float64\n",
      "Pickup_latitude          1494926 non-null float64\n",
      "Dropoff_longitude        1494926 non-null float64\n",
      "Dropoff_latitude         1494926 non-null float64\n",
      "Passenger_count          1494926 non-null int64\n",
      "Trip_distance            1494926 non-null float64\n",
      "Fare_amount              1494926 non-null float64\n",
      "Extra                    1494926 non-null float64\n",
      "MTA_tax                  1494926 non-null float64\n",
      "Tip_amount               1494926 non-null float64\n",
      "Tolls_amount             1494926 non-null float64\n",
      "Ehail_fee                0 non-null float64\n",
      "improvement_surcharge    1494926 non-null float64\n",
      "Total_amount             1494926 non-null float64\n",
      "Payment_type             1494926 non-null int64\n",
      "Trip_type                1494922 non-null float64\n",
      "dtypes: float64(14), int64(4), object(3)\n",
      "memory usage: 239.5+ MB\n"
     ]
    }
   ],
   "source": [
    "df.info()"
   ]
  },
  {
   "cell_type": "code",
   "execution_count": 4,
   "metadata": {
    "collapsed": false
   },
   "outputs": [],
   "source": [
    "## En code pickup and dropoff locations with geohash in 3 precisions 5,7,9\n",
    "pdstr = [\"Pickup\", \"Dropoff\"]\n",
    "for n in [5,7,9]:\n",
    "    for p in pdstr:\n",
    "        cname = p + \"_geo_\" + str(n)\n",
    "        th = [ pgh.encode(x,y,precision=n) for x,y in zip(df[p + \"_latitude\"],df[p + \"_longitude\"])]\n",
    "        df[cname] = th\n",
    "        tlatlon   = [pgh.decode(x) for x in th]\n",
    "        cname     = p + \"_lat_\" + str(n)\n",
    "        df[cname] = [ x[0] for x in tlatlon]\n",
    "        cname     = p + \"_lon_\" + str(n)\n",
    "        df[cname] = [ x[1] for x in tlatlon]"
   ]
  },
  {
   "cell_type": "code",
   "execution_count": 5,
   "metadata": {
    "collapsed": false
   },
   "outputs": [],
   "source": [
    "## keep only the geo variables\n",
    "for x in list(df):\n",
    "    if (x.split(\"_\")[0] not in set(pdstr)):\n",
    "        del df[x]"
   ]
  },
  {
   "cell_type": "code",
   "execution_count": 6,
   "metadata": {
    "collapsed": false
   },
   "outputs": [
    {
     "name": "stdout",
     "output_type": "stream",
     "text": [
      "<class 'pandas.core.frame.DataFrame'>\n",
      "RangeIndex: 1494926 entries, 0 to 1494925\n",
      "Data columns (total 22 columns):\n",
      "Pickup_longitude     1494926 non-null float64\n",
      "Pickup_latitude      1494926 non-null float64\n",
      "Dropoff_longitude    1494926 non-null float64\n",
      "Dropoff_latitude     1494926 non-null float64\n",
      "Pickup_geo_5         1494926 non-null object\n",
      "Pickup_lat_5         1494926 non-null float64\n",
      "Pickup_lon_5         1494926 non-null float64\n",
      "Dropoff_geo_5        1494926 non-null object\n",
      "Dropoff_lat_5        1494926 non-null float64\n",
      "Dropoff_lon_5        1494926 non-null float64\n",
      "Pickup_geo_7         1494926 non-null object\n",
      "Pickup_lat_7         1494926 non-null float64\n",
      "Pickup_lon_7         1494926 non-null float64\n",
      "Dropoff_geo_7        1494926 non-null object\n",
      "Dropoff_lat_7        1494926 non-null float64\n",
      "Dropoff_lon_7        1494926 non-null float64\n",
      "Pickup_geo_9         1494926 non-null object\n",
      "Pickup_lat_9         1494926 non-null float64\n",
      "Pickup_lon_9         1494926 non-null float64\n",
      "Dropoff_geo_9        1494926 non-null object\n",
      "Dropoff_lat_9        1494926 non-null float64\n",
      "Dropoff_lon_9        1494926 non-null float64\n",
      "dtypes: float64(16), object(6)\n",
      "memory usage: 250.9+ MB\n"
     ]
    }
   ],
   "source": [
    "df.info()"
   ]
  },
  {
   "cell_type": "code",
   "execution_count": 10,
   "metadata": {
    "collapsed": true
   },
   "outputs": [],
   "source": [
    "file_name = '../data/green_tripdata_2015-09_geo.csv'\n",
    "df.to_csv(file_name, index=False)"
   ]
  },
  {
   "cell_type": "code",
   "execution_count": null,
   "metadata": {
    "collapsed": true
   },
   "outputs": [],
   "source": []
  }
 ],
 "metadata": {
  "anaconda-cloud": {},
  "kernelspec": {
   "display_name": "Python 3",
   "language": "python",
   "name": "python3"
  },
  "language_info": {
   "codemirror_mode": {
    "name": "ipython",
    "version": 3
   },
   "file_extension": ".py",
   "mimetype": "text/x-python",
   "name": "python",
   "nbconvert_exporter": "python",
   "pygments_lexer": "ipython3",
   "version": "3.5.2"
  }
 },
 "nbformat": 4,
 "nbformat_minor": 2
}
