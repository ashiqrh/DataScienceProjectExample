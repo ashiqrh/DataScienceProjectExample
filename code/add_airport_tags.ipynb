{
 "cells": [
  {
   "cell_type": "code",
   "execution_count": 25,
   "metadata": {
    "collapsed": true
   },
   "outputs": [],
   "source": [
    "## this files reads the source data, finds if pickup or drop off locations are next to NYC airports.\n",
    "## Creates three additional fields with airport related tags and save these 3 fields in a file\n",
    "## the distance calculation funcion is defined in the helper.ipynb/py file"
   ]
  },
  {
   "cell_type": "code",
   "execution_count": 1,
   "metadata": {
    "collapsed": true
   },
   "outputs": [],
   "source": [
    "import pandas as pd\n",
    "import time\n",
    "import datetime\n",
    "\n",
    "import helper"
   ]
  },
  {
   "cell_type": "code",
   "execution_count": 3,
   "metadata": {
    "collapsed": false
   },
   "outputs": [
    {
     "name": "stdout",
     "output_type": "stream",
     "text": [
      "(1494926, 21)\n"
     ]
    }
   ],
   "source": [
    "## load the source data\n",
    "file_name = '../data/green_tripdata_2015-09.csv'\n",
    "df = pd.read_csv(file_name)\n",
    "print(df.shape)"
   ]
  },
  {
   "cell_type": "code",
   "execution_count": 5,
   "metadata": {
    "collapsed": false
   },
   "outputs": [],
   "source": [
    "## defind airport paramenters\n",
    "# first using google maps, find airport lat long and a radius \n",
    "# all points that falls with the radius from the airport location will be tag for that airport\n",
    "\n",
    "airports = [\"JFK\", \"LGA\", \"EWR\"]\n",
    "\n",
    "lat = {}\n",
    "lon = {}\n",
    "radius = {}  \n",
    "\n",
    "lat[\"JFK\"] = 40.647814\n",
    "lon[\"JFK\"] = -73.786415\n",
    "radius[\"JFK\"] = 1  # mile\n",
    "\n",
    "lat[\"LGA\"] = 40.777096\n",
    "lon[\"LGA\"] = -73.863381\n",
    "radius[\"LGA\"] = 1.1/1.6  # mile\n",
    "\n",
    "lat[\"EWR\"] = 40.692335\n",
    "lon[\"EWR\"] = -74.182119\n",
    "radius[\"EWR\"] = 0.5  # mile\n",
    "\n",
    "pickdrop = [\"Pickup\", \"Dropoff\"]\n",
    "tdf =pd.DataFrame()"
   ]
  },
  {
   "cell_type": "code",
   "execution_count": 7,
   "metadata": {
    "collapsed": false
   },
   "outputs": [
    {
     "name": "stdout",
     "output_type": "stream",
     "text": [
      "Time for JFK Pickup 0:02:48.722032\n",
      "Time for JFK Dropoff 0:02:48.277461\n",
      "Time for LGA Pickup 0:02:48.923894\n",
      "Time for LGA Dropoff 0:02:47.610286\n",
      "Time for EWR Pickup 0:02:48.122049\n",
      "Time for EWR Dropoff 0:02:48.795221\n"
     ]
    }
   ],
   "source": [
    "## find distance from airports\n",
    "for a in airports:\n",
    "    for p in pickdrop:\n",
    "        tstart = time.time()\n",
    "        \n",
    "        df_field = p + \"_to_\" + a\n",
    "        lat_field = p + \"_latitude\"\n",
    "        lon_field = p + \"_longitude\"\n",
    "        tdf[df_field] = df.apply(lambda r: helper.find_distance(r[lat_field], r[lon_field], lat[a], lon[a]), axis =1)\n",
    "        print(\"Time for \" + a + \" \" + p, str(datetime.timedelta(seconds=time.time()-tstart)))"
   ]
  },
  {
   "cell_type": "code",
   "execution_count": 11,
   "metadata": {
    "collapsed": true
   },
   "outputs": [],
   "source": [
    "# if with the radius, points are near the airport\n",
    "near_airport = {}\n",
    "for a in airports:\n",
    "    for p in pickdrop:\n",
    "        near_airport[p + \"_to_\" + a] = [ d < radius[a] for d in tdf[p + \"_to_\" + a] ]"
   ]
  },
  {
   "cell_type": "code",
   "execution_count": 12,
   "metadata": {
    "collapsed": false
   },
   "outputs": [],
   "source": [
    "## hold the data in airport_tag\n",
    "airport_tag = [None]*df.shape[0]\n",
    "\n",
    "## a small function to create airport tags\n",
    "def create_tags(x,a,p,tf):\n",
    "    if tf:\n",
    "        if (x == None):\n",
    "            return a + p\n",
    "        else:\n",
    "            return x + \" \" + a + p\n",
    "    else:\n",
    "        return x"
   ]
  },
  {
   "cell_type": "code",
   "execution_count": 13,
   "metadata": {
    "collapsed": false
   },
   "outputs": [],
   "source": [
    "## Create detailed tags\n",
    "for a in airports:\n",
    "    for p in pickdrop:\n",
    "        airport_tag = [ create_tags(x,a,\"_\"+p,y) for x,y in zip(airport_tag,near_airport[p + \"_to_\" + a]) ]"
   ]
  },
  {
   "cell_type": "code",
   "execution_count": 14,
   "metadata": {
    "collapsed": false
   },
   "outputs": [
    {
     "data": {
      "text/plain": [
       "LGA_Dropoff               20736\n",
       "JFK_Dropoff               12738\n",
       "EWR_Dropoff                 669\n",
       "LGA_Pickup LGA_Dropoff      209\n",
       "JFK_Pickup JFK_Dropoff      200\n",
       "LGA_Pickup                  145\n",
       "JFK_Pickup                   87\n",
       "EWR_Pickup EWR_Dropoff       39\n",
       "JFK_Dropoff LGA_Pickup       20\n",
       "JFK_Pickup LGA_Dropoff       18\n",
       "EWR_Pickup                    2\n",
       "LGA_Pickup EWR_Dropoff        1\n",
       "Name: 0, dtype: int64"
      ]
     },
     "execution_count": 14,
     "metadata": {},
     "output_type": "execute_result"
    }
   ],
   "source": [
    "## check the results\n",
    "pd.DataFrame(airport_tag)[0].value_counts()"
   ]
  },
  {
   "cell_type": "code",
   "execution_count": 15,
   "metadata": {
    "collapsed": true
   },
   "outputs": [],
   "source": [
    "## Create tag for pickup and drop off locations\n",
    "pickup_tag = [None]*df.shape[0]\n",
    "dropoff_tag = [None]*df.shape[0]\n",
    "\n",
    "for a in airports:\n",
    "    pickup_tag = [ create_tags(x,a,\"\",y) for x,y in zip(pickup_tag,near_airport[\"Pickup_to_\" + a]) ]\n",
    "    dropoff_tag = [ create_tags(x,a,\"\",y) for x,y in zip(dropoff_tag,near_airport[\"Dropoff_to_\" + a]) ]"
   ]
  },
  {
   "cell_type": "code",
   "execution_count": 22,
   "metadata": {
    "collapsed": false
   },
   "outputs": [],
   "source": [
    "## store results in a data frame\n",
    "df_airport = pd.DataFrame()\n",
    "df_airport[\"Airport_tag\"] = airport_tag\n",
    "df_airport[\"Pickup_tag\"] = pickup_tag\n",
    "df_airport[\"Dropoff_tag\"]= dropoff_tag\n",
    "\n",
    "## fillup missing values as 'Non Airport'\n",
    "for col in list(df_airport):\n",
    "  df_airport[col] = df_airport[col].fillna(\"Non Airport\")"
   ]
  },
  {
   "cell_type": "code",
   "execution_count": 23,
   "metadata": {
    "collapsed": false
   },
   "outputs": [
    {
     "name": "stdout",
     "output_type": "stream",
     "text": [
      "<class 'pandas.core.frame.DataFrame'>\n",
      "RangeIndex: 1494926 entries, 0 to 1494925\n",
      "Data columns (total 3 columns):\n",
      "Airport_tag    1494926 non-null object\n",
      "Pickup_tag     1494926 non-null object\n",
      "Dropoff_tag    1494926 non-null object\n",
      "dtypes: object(3)\n",
      "memory usage: 34.2+ MB\n"
     ]
    }
   ],
   "source": [
    "df_airport.info()"
   ]
  },
  {
   "cell_type": "code",
   "execution_count": 24,
   "metadata": {
    "collapsed": true
   },
   "outputs": [],
   "source": [
    "file_name = '../data/green_tripdata_2015-09_airport.csv'\n",
    "df_airport.to_csv(file_name, index=False)"
   ]
  },
  {
   "cell_type": "code",
   "execution_count": null,
   "metadata": {
    "collapsed": true
   },
   "outputs": [],
   "source": []
  }
 ],
 "metadata": {
  "kernelspec": {
   "display_name": "Python 3",
   "language": "python",
   "name": "python3"
  },
  "language_info": {
   "codemirror_mode": {
    "name": "ipython",
    "version": 3
   },
   "file_extension": ".py",
   "mimetype": "text/x-python",
   "name": "python",
   "nbconvert_exporter": "python",
   "pygments_lexer": "ipython3",
   "version": "3.5.2"
  }
 },
 "nbformat": 4,
 "nbformat_minor": 2
}
