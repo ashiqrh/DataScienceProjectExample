{
 "cells": [
  {
   "cell_type": "code",
   "execution_count": 1,
   "metadata": {
    "collapsed": true
   },
   "outputs": [],
   "source": [
    "## this file reads the source data and all the additional processed files\n",
    "## and combines them all in a single file"
   ]
  },
  {
   "cell_type": "code",
   "execution_count": 2,
   "metadata": {
    "collapsed": true
   },
   "outputs": [],
   "source": [
    "import pandas as pd"
   ]
  },
  {
   "cell_type": "code",
   "execution_count": 3,
   "metadata": {
    "collapsed": true
   },
   "outputs": [],
   "source": [
    "file_name_source  = '../data/green_tripdata_2015-09.csv'\n",
    "file_name_airport = '../data/green_tripdata_2015-09_airport.csv'\n",
    "file_name_pickup  = '../data/green_tripdata_2015-09_pickup_borough.csv'\n",
    "file_name_dropoff = '../data/green_tripdata_2015-09_droppoff_borough.csv'\n",
    "file_name_geohash = '../data/green_tripdata_2015-09_geo.csv'\n",
    "file_name_out     = '../data/green_tripdata_2015-09_modified.csv'"
   ]
  },
  {
   "cell_type": "code",
   "execution_count": 4,
   "metadata": {
    "collapsed": false
   },
   "outputs": [
    {
     "name": "stdout",
     "output_type": "stream",
     "text": [
      "(1494926, 21)\n",
      "(1494926, 3)\n",
      "(1494926, 3)\n",
      "(1494926, 3)\n",
      "(1494926, 22)\n"
     ]
    }
   ],
   "source": [
    "df = pd.read_csv(file_name_source)\n",
    "print(df.shape)\n",
    "dfa = pd.read_csv(file_name_airport)\n",
    "print(dfa.shape)\n",
    "dfp = pd.read_csv(file_name_pickup)\n",
    "print(dfp.shape)\n",
    "dfd = pd.read_csv(file_name_dropoff)\n",
    "print(dfd.shape)\n",
    "dfg = pd.read_csv(file_name_geohash)\n",
    "print(dfg.shape)"
   ]
  },
  {
   "cell_type": "code",
   "execution_count": 5,
   "metadata": {
    "collapsed": false
   },
   "outputs": [
    {
     "name": "stdout",
     "output_type": "stream",
     "text": [
      "<class 'pandas.core.frame.DataFrame'>\n",
      "RangeIndex: 1494926 entries, 0 to 1494925\n",
      "Data columns (total 22 columns):\n",
      "Pickup_longitude     1494926 non-null float64\n",
      "Pickup_latitude      1494926 non-null float64\n",
      "Dropoff_longitude    1494926 non-null float64\n",
      "Dropoff_latitude     1494926 non-null float64\n",
      "Pickup_geo_5         1494926 non-null object\n",
      "Pickup_lat_5         1494926 non-null float64\n",
      "Pickup_lon_5         1494926 non-null float64\n",
      "Dropoff_geo_5        1494926 non-null object\n",
      "Dropoff_lat_5        1494926 non-null float64\n",
      "Dropoff_lon_5        1494926 non-null float64\n",
      "Pickup_geo_7         1494926 non-null object\n",
      "Pickup_lat_7         1494926 non-null float64\n",
      "Pickup_lon_7         1494926 non-null float64\n",
      "Dropoff_geo_7        1494926 non-null object\n",
      "Dropoff_lat_7        1494926 non-null float64\n",
      "Dropoff_lon_7        1494926 non-null float64\n",
      "Pickup_geo_9         1494926 non-null object\n",
      "Pickup_lat_9         1494926 non-null float64\n",
      "Pickup_lon_9         1494926 non-null float64\n",
      "Dropoff_geo_9        1494926 non-null object\n",
      "Dropoff_lat_9        1494926 non-null float64\n",
      "Dropoff_lon_9        1494926 non-null float64\n",
      "dtypes: float64(16), object(6)\n",
      "memory usage: 250.9+ MB\n"
     ]
    }
   ],
   "source": [
    "dfg.info()"
   ]
  },
  {
   "cell_type": "code",
   "execution_count": 6,
   "metadata": {
    "collapsed": true
   },
   "outputs": [],
   "source": [
    "## put all in one dataframe\n",
    "df[\"Pickup_tag\"] = dfa[\"Pickup_tag\"]\n",
    "df[\"Dropoff_tag\"] = dfa[\"Dropoff_tag\"]\n",
    "df[\"Airport_tag\"] = dfa[\"Airport_tag\"]\n",
    "\n",
    "df[\"Pickup_borough\"]  = dfp[\"Pickup_borough\"]\n",
    "df[\"Dropoff_borough\"] = dfd[\"Dropoff_borough\"]\n",
    "\n",
    "\n",
    "for pdstr in [\"Pickup\", \"Dropoff\"]:\n",
    "    for n in [5,7,9]:\n",
    "        df[pdstr + \"_geo_\" + str(n)] = dfg[pdstr + \"_geo_\" + str(n)]\n",
    "        df[pdstr + \"_lat_\" + str(n)] = dfg[pdstr + \"_lat_\" + str(n)]\n",
    "        df[pdstr + \"_lon_\" + str(n)] = dfg[pdstr + \"_lon_\" + str(n)]"
   ]
  },
  {
   "cell_type": "code",
   "execution_count": 7,
   "metadata": {
    "collapsed": true
   },
   "outputs": [],
   "source": [
    "## write to file\n",
    "df.to_csv(file_name_out, index=False)"
   ]
  },
  {
   "cell_type": "code",
   "execution_count": null,
   "metadata": {
    "collapsed": true
   },
   "outputs": [],
   "source": []
  }
 ],
 "metadata": {
  "anaconda-cloud": {},
  "kernelspec": {
   "display_name": "Python 3",
   "language": "python",
   "name": "python3"
  },
  "language_info": {
   "codemirror_mode": {
    "name": "ipython",
    "version": 3
   },
   "file_extension": ".py",
   "mimetype": "text/x-python",
   "name": "python",
   "nbconvert_exporter": "python",
   "pygments_lexer": "ipython3",
   "version": "3.5.2"
  }
 },
 "nbformat": 4,
 "nbformat_minor": 2
}
